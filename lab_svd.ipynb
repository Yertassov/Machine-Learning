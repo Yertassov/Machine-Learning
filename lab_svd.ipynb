{
 "cells": [
  {
   "cell_type": "code",
   "execution_count": 20,
   "metadata": {},
   "outputs": [],
   "source": [
    "from numpy import *\n",
    "from numpy import diag\n",
    "from numpy import dot\n",
    "from numpy import linalg\n",
    "import math\n",
    "\n",
    "a = array([[0,1,1],[math.sqrt(2),2,0],[0,1,1]])\n"
   ]
  },
  {
   "cell_type": "code",
   "execution_count": 21,
   "metadata": {},
   "outputs": [],
   "source": [
    "def svd(matrix):\n",
    "    U, s, V = linalg.svd(a)\n",
    "    print(U)\n",
    "    print(s)\n",
    "    print(V)\n",
    "    print(\"/////////////////////////////\")\n",
    "    Sigma = diag(s)\n",
    "    B = V.dot(Sigma.dot(V))\n",
    "    print(U)\n",
    "    print(B)\n",
    "    print(V)\n"
   ]
  },
  {
   "cell_type": "code",
   "execution_count": 22,
   "metadata": {},
   "outputs": [
    {
     "name": "stdout",
     "output_type": "stream",
     "text": [
      "[[-0.40824829  0.57735027 -0.70710678]\n",
      " [-0.81649658 -0.57735027  0.        ]\n",
      " [-0.40824829  0.57735027  0.70710678]]\n",
      "[ 2.82842712  1.41421356 -0.        ]\n",
      "[[ -4.08248290e-01  -8.66025404e-01  -2.88675135e-01]\n",
      " [ -5.77350269e-01  -5.55111512e-17   8.16496581e-01]\n",
      " [ -7.07106781e-01   5.00000000e-01  -5.00000000e-01]]\n",
      "/////////////////////////////\n",
      "[[-0.40824829  0.57735027 -0.70710678]\n",
      " [-0.81649658 -0.57735027  0.        ]\n",
      " [-0.40824829  0.57735027  0.70710678]]\n",
      "[[ 1.1785113   1.         -0.66666667]\n",
      " [ 0.66666667  1.41421356  0.47140452]\n",
      " [ 0.40824829  1.73205081  1.15470054]]\n",
      "[[ -4.08248290e-01  -8.66025404e-01  -2.88675135e-01]\n",
      " [ -5.77350269e-01  -5.55111512e-17   8.16496581e-01]\n",
      " [ -7.07106781e-01   5.00000000e-01  -5.00000000e-01]]\n"
     ]
    }
   ],
   "source": [
    "svd(a)"
   ]
  },
  {
   "cell_type": "code",
   "execution_count": null,
   "metadata": {
    "collapsed": true
   },
   "outputs": [],
   "source": []
  }
 ],
 "metadata": {
  "kernelspec": {
   "display_name": "Python 3",
   "language": "python",
   "name": "python3"
  },
  "language_info": {
   "codemirror_mode": {
    "name": "ipython",
    "version": 3
   },
   "file_extension": ".py",
   "mimetype": "text/x-python",
   "name": "python",
   "nbconvert_exporter": "python",
   "pygments_lexer": "ipython3",
   "version": "3.6.2"
  }
 },
 "nbformat": 4,
 "nbformat_minor": 2
}
