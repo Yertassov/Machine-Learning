{
 "cells": [
  {
   "cell_type": "code",
   "execution_count": 95,
   "metadata": {
    "collapsed": true
   },
   "outputs": [],
   "source": [
    "import pandas as pd\n",
    "import numpy as np\n",
    "import matplotlib.pyplot as plt\n"
   ]
  },
  {
   "cell_type": "code",
   "execution_count": 96,
   "metadata": {},
   "outputs": [],
   "source": [
    "data = pd.read_table(\"http://archive.ics.uci.edu/ml/machine-learning-databases/wine-quality/winequality-red.csv\", sep=\";\")"
   ]
  },
  {
   "cell_type": "code",
   "execution_count": 97,
   "metadata": {
    "collapsed": true
   },
   "outputs": [],
   "source": [
    "def ols_cost(X, y, theta):\n",
    "    inner = np.power(((X * theta.T) - y), 2)\n",
    "    return np.sum(inner) / (2 * len(X))"
   ]
  },
  {
   "cell_type": "code",
   "execution_count": 98,
   "metadata": {
    "collapsed": true
   },
   "outputs": [],
   "source": [
    "def gradientDescent(X, y, theta, alpha, iters):\n",
    "    \n",
    "    # Define the temp matrix for theta\n",
    "    temp = np.matrix(np.zeros(theta.shape))\n",
    "    \n",
    "    # Number of parameters to iterate through\n",
    "    parameters = int(theta.ravel().shape[1])\n",
    "    \n",
    "    # cost vector to see how it progresses through each step\n",
    "    cost = np.zeros(iters + 1)\n",
    "    cost[0] = ols_cost(X, y, theta)\n",
    "    \n",
    "    # Calculate the error at each step\n",
    "    for i in range(iters):\n",
    "        error = (X * theta.T) - y\n",
    "        \n",
    "        for j in range(parameters):\n",
    "            term = np.multiply(error, X[:,j])\n",
    "            temp[0,j] = theta[0,j] - ((alpha / len(X)) * np.sum(term))\n",
    "            \n",
    "        theta = temp\n",
    "        cost[i + 1] = ols_cost(X, y, theta)\n",
    "        \n",
    "    return theta, cost"
   ]
  },
  {
   "cell_type": "code",
   "execution_count": 99,
   "metadata": {},
   "outputs": [],
   "source": [
    "alpha = 0.01\n",
    "iters = 1000\n",
    "sigma = data.std()\n",
    "mu = data.mean()\n",
    "\n",
    "X = pd.DataFrame(data['alcohol'])\n",
    "X['x_0'] = 1\n",
    "y = data['quality']\n",
    "X = np.matrix(X.values)\n",
    "y = np.matrix(y.values).T\n",
    "theta = np.matrix(np.zeros(shape=[1,X.shape[1]]))\n"
   ]
  },
  {
   "cell_type": "code",
   "execution_count": 100,
   "metadata": {},
   "outputs": [
    {
     "data": {
      "text/plain": [
       "16.208255159474671"
      ]
     },
     "execution_count": 100,
     "metadata": {},
     "output_type": "execute_result"
    }
   ],
   "source": [
    "ols_cost(X, y, theta)"
   ]
  },
  {
   "cell_type": "code",
   "execution_count": 101,
   "metadata": {},
   "outputs": [
    {
     "data": {
      "text/plain": [
       "0.26600767197905389"
      ]
     },
     "execution_count": 101,
     "metadata": {},
     "output_type": "execute_result"
    }
   ],
   "source": [
    "theta_final, cost = gradientDescent(X, y, theta, alpha, iters)\n",
    "ols_cost(X, y, theta_final)\n"
   ]
  },
  {
   "cell_type": "code",
   "execution_count": 102,
   "metadata": {},
   "outputs": [],
   "source": [
    "x = np.linspace(data.alcohol.min(), data.alcohol.max(), 100)\n",
    "y_hat = theta_final[0,1] + theta_final[0,0] * x "
   ]
  },
  {
   "cell_type": "code",
   "execution_count": 103,
   "metadata": {},
   "outputs": [
    {
     "name": "stdout",
     "output_type": "stream",
     "text": [
      "Standard Deviations\n",
      " fixed acidity            1.741096\n",
      "volatile acidity         0.179060\n",
      "citric acid              0.194801\n",
      "residual sugar           1.409928\n",
      "chlorides                0.047065\n",
      "free sulfur dioxide     10.460157\n",
      "total sulfur dioxide    32.895324\n",
      "density                  0.001887\n",
      "pH                       0.154386\n",
      "sulphates                0.169507\n",
      "alcohol                  1.065668\n",
      "quality                  0.807569\n",
      "dtype: float64\n",
      "\n",
      "Averages\n",
      " fixed acidity            8.319637\n",
      "volatile acidity         0.527821\n",
      "citric acid              0.270976\n",
      "residual sugar           2.538806\n",
      "chlorides                0.087467\n",
      "free sulfur dioxide     15.874922\n",
      "total sulfur dioxide    46.467792\n",
      "density                  0.996747\n",
      "pH                       3.311113\n",
      "sulphates                0.658149\n",
      "alcohol                 10.422983\n",
      "quality                  5.636023\n",
      "dtype: float64\n"
     ]
    }
   ],
   "source": [
    "data_z = (data - data.mean()) / data.std()\n",
    "sigma = data.std()\n",
    "mu = data.mean()\n",
    "print(\"Standard Deviations\\n\", sigma)\n",
    "print(\"\\nAverages\\n\", mu)"
   ]
  },
  {
   "cell_type": "code",
   "execution_count": 104,
   "metadata": {
    "collapsed": true
   },
   "outputs": [],
   "source": [
    "# Add the x_0 value\n",
    "data_z['x_0'] = 1\n",
    "\n",
    "X = data_z.drop(['quality'], axis=1)\n",
    "y = data_z['quality']\n",
    "\n",
    "X = np.matrix(X.values)\n",
    "y = np.matrix(y.values).T\n",
    "theta = np.matrix(np.zeros(shape=[1,X.shape[1]]))"
   ]
  },
  {
   "cell_type": "code",
   "execution_count": 105,
   "metadata": {
    "collapsed": true
   },
   "outputs": [],
   "source": [
    "theta_final, cost = gradientDescent(X, y, theta, alpha, iters)\n",
    "ols_cost(X, y, theta_final)\n",
    "x_hat_z = np.ones((100, X.shape[1]))\n",
    "for i in range(1, x_hat_z.shape[1]):\n",
    "    x_hat_z[:,i] = np.linspace(X[:,i].min(), X[:,i].max(), 100)\n",
    "\n",
    "# y_hat_z is the normalized, predicted values.\n",
    "y_hat_z = x_hat_z * theta_final.T"
   ]
  },
  {
   "cell_type": "code",
   "execution_count": 106,
   "metadata": {
    "collapsed": true
   },
   "outputs": [],
   "source": [
    "y_hat = y_hat_z * sigma[len(sigma) - 1] + mu[len(mu) - 1]\n",
    "x_hat = x_hat_z\n",
    "# First column is intercepts\n",
    "x_hat[:,0:(len(sigma) - 1)] = x_hat_z[:,0:(len(\n",
    "            sigma) - 1)] * np.atleast_2d(sigma[0:(\n",
    "            len(sigma) - 1)]) + np.atleast_2d(mu[0:(\n",
    "            len(sigma) - 1)])"
   ]
  },
  {
   "cell_type": "code",
   "execution_count": 107,
   "metadata": {},
   "outputs": [
    {
     "data": {
      "text/plain": [
       "0.36035795138073523"
      ]
     },
     "execution_count": 107,
     "metadata": {},
     "output_type": "execute_result"
    }
   ],
   "source": [
    "# Use training data to calculate R-squared\n",
    "y_hat_2 = np.ravel(X * theta_final.T * sigma[len(sigma) - 1] + mu[len(mu) - 1])\n",
    "num = np.sum((data.quality - y_hat_2) ** 2)\n",
    "den = np.sum((data.quality - data.quality.mean()) ** 2)\n",
    "r_squared = 1 - num / den\n",
    "r_squared"
   ]
  },
  {
   "cell_type": "code",
   "execution_count": 108,
   "metadata": {
    "collapsed": true
   },
   "outputs": [],
   "source": [
    "from sklearn.linear_model import LinearRegression\n"
   ]
  },
  {
   "cell_type": "code",
   "execution_count": 109,
   "metadata": {},
   "outputs": [
    {
     "data": {
      "text/plain": [
       "LinearRegression(copy_X=True, fit_intercept=True, n_jobs=1, normalize=True)"
      ]
     },
     "execution_count": 109,
     "metadata": {},
     "output_type": "execute_result"
    }
   ],
   "source": [
    "X = data.drop(['quality'], axis=1)\n",
    "y = data['quality']\n",
    "lm = LinearRegression(fit_intercept=True, normalize=True)\n",
    "lm.fit(X, y)"
   ]
  },
  {
   "cell_type": "code",
   "execution_count": 110,
   "metadata": {
    "collapsed": true
   },
   "outputs": [],
   "source": [
    "X_ = np.matrix(X.values)\n",
    "x_hat_sk = np.zeros((100, X.shape[1]))\n",
    "for i in range(X.shape[1]):\n",
    "    x_hat_sk[:,i] = np.linspace(X_[:,i].min(), X_[:,i].max(), 100)\n",
    "y_hat_sk = lm.predict(x_hat_sk)"
   ]
  },
  {
   "cell_type": "code",
   "execution_count": 111,
   "metadata": {},
   "outputs": [
    {
     "data": {
      "image/png": "[encoded data removed]",
      "text/plain": [
       "<matplotlib.figure.Figure at 0x80cf518>"
      ]
     },
     "metadata": {},
     "output_type": "display_data"
    },
    {
     "data": {
      "image/png": "[encoded data removed]",
      "text/plain": [
       "<matplotlib.figure.Figure at 0xd23db38>"
      ]
     },
     "metadata": {},
     "output_type": "display_data"
    }
   ],
   "source": [
    "fig, ax = plt.subplots(figsize=(12,8))\n",
    "plt.scatter(data.alcohol, data.quality, label='Training Data')\n",
    "plt.plot(x_hat_sk[:,10], y_hat_sk, 'r', label='Predicted Sklearn')\n",
    "plt.xlabel(\"Alcohol\")\n",
    "plt.ylabel(\"Quality\")\n",
    "plt.title(\"Wine Quality vs. Alcohol\")\n",
    "plt.show()"
   ]
  },
  {
   "cell_type": "code",
   "execution_count": 112,
   "metadata": {},
   "outputs": [
    {
     "data": {
      "text/plain": [
       "0.36055170303868833"
      ]
     },
     "execution_count": 112,
     "metadata": {},
     "output_type": "execute_result"
    }
   ],
   "source": [
    "lm.score(X, y)\n"
   ]
  },
  {
   "cell_type": "code",
   "execution_count": 113,
   "metadata": {},
   "outputs": [
    {
     "data": {
      "image/png": "[encoded data removed]",
      "text/plain": [
       "<matplotlib.figure.Figure at 0x80fd080>"
      ]
     },
     "metadata": {},
     "output_type": "display_data"
    }
   ],
   "source": [
    "plt.figure(figsize=(12,8))\n",
    "plt.scatter(y, y_hat_sk2, c='b', label='Sci Kit-Learn',\n",
    "           s=50)\n",
    "plt.scatter(y, y_hat_2, c='r', label='Custom Function')\n",
    "plt.ylabel('Predicted Quality $\\hat{y_i}$')\n",
    "plt.xlabel('Quality $y_i$')\n",
    "plt.legend(loc=2)\n",
    "plt.grid()\n",
    "plt.show()"
   ]
  },
  {
   "cell_type": "code",
   "execution_count": null,
   "metadata": {
    "collapsed": true
   },
   "outputs": [],
   "source": []
  }
 ],
 "metadata": {
  "kernelspec": {
   "display_name": "Python 3",
   "language": "python",
   "name": "python3"
  },
  "language_info": {
   "codemirror_mode": {
    "name": "ipython",
    "version": 3
   },
   "file_extension": ".py",
   "mimetype": "text/x-python",
   "name": "python",
   "nbconvert_exporter": "python",
   "pygments_lexer": "ipython3",
   "version": "3.6.2"
  }
 },
 "nbformat": 4,
 "nbformat_minor": 2
}
